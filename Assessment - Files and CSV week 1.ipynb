{
 "cells": [
  {
   "cell_type": "markdown",
   "metadata": {},
   "source": [
    "# Assessment: Files and CSV  week 1"
   ]
  },
  {
   "cell_type": "markdown",
   "metadata": {},
   "source": [
    "1 - The textfile, travel_plans.txt, contains the summer travel plans for someone with some commentary. Find the total number of characters in the file and save to the variable num."
   ]
  },
  {
   "cell_type": "code",
   "execution_count": null,
   "metadata": {},
   "outputs": [],
   "source": [
    "with open('travel_plans.txt') as filo:\n",
    "    reads = filo.read()\n",
    "    num=len(reads)\n"
   ]
  },
  {
   "cell_type": "markdown",
   "metadata": {},
   "source": [
    "2 - We have provided a file called emotion_words.txt that contains lines of words that describe emotions. Find the total number of words in the file and assign this value to the variable num_words."
   ]
  },
  {
   "cell_type": "code",
   "execution_count": null,
   "metadata": {},
   "outputs": [],
   "source": [
    "num_words=0\n",
    "with open('emotion_words.txt') as filo:\n",
    "    reads = filo.read()\n",
    "    lst1=reads.split('\\n')\n",
    "    lst1.pop(-1)\n",
    "    for items in lst1:\n",
    "        lst2=items.split(\" \")\n",
    "        num_words+=len(lst2)\n"
   ]
  },
  {
   "cell_type": "markdown",
   "metadata": {},
   "source": [
    "3 - Assign to the variable num_lines the number of lines in the file school_prompt.txt."
   ]
  },
  {
   "cell_type": "code",
   "execution_count": null,
   "metadata": {},
   "outputs": [],
   "source": [
    "num_lines=0\n",
    "with open('school_prompt.txt') as filo:\n",
    "    reads = filo.read()\n",
    "    lst1=reads.split('\\n')\n",
    "    lst1.pop(-1)\n",
    "    num_lines=len(lst1)\n"
   ]
  },
  {
   "cell_type": "markdown",
   "metadata": {},
   "source": [
    "4 - Assign the first 30 characters of school_prompt.txt as a string to the variable beginning_chars."
   ]
  },
  {
   "cell_type": "code",
   "execution_count": null,
   "metadata": {},
   "outputs": [],
   "source": [
    "with open('school_prompt.txt') as filo:\n",
    "    reads = filo.read()\n",
    "    beginning_chars = reads[:30]\n"
   ]
  },
  {
   "cell_type": "markdown",
   "metadata": {},
   "source": [
    "5 - Challenge: Using the file school_prompt.txt, assign the third word of every line to a list called three."
   ]
  },
  {
   "cell_type": "code",
   "execution_count": null,
   "metadata": {},
   "outputs": [],
   "source": [
    "three=[]\n",
    "with open('school_prompt.txt') as filo:\n",
    "    reads = filo.read()\n",
    "    lst1=reads.split('\\n')\n",
    "    lst1.pop(-1)\n",
    "    for items in lst1:\n",
    "        lst2=items.split(\" \")\n",
    "        three.append(lst2[2])\n"
   ]
  },
  {
   "cell_type": "markdown",
   "metadata": {},
   "source": [
    "6 - Challenge: Create a list called emotions that contains the first word of every line in emotion_words.txt."
   ]
  },
  {
   "cell_type": "code",
   "execution_count": null,
   "metadata": {},
   "outputs": [],
   "source": [
    "emotions=[]\n",
    "with open('emotion_words.txt') as filo:\n",
    "    reads = filo.read()\n",
    "    lst1=reads.split('\\n')\n",
    "    lst1.pop(-1)\n",
    "    for items in lst1:\n",
    "        lst2=items.split(\" \")\n",
    "        emotions.append(lst2[0])\n"
   ]
  },
  {
   "cell_type": "markdown",
   "metadata": {},
   "source": [
    "7 - Assign the first 33 characters from the textfile, travel_plans.txt to the variable first_chars."
   ]
  },
  {
   "cell_type": "code",
   "execution_count": null,
   "metadata": {},
   "outputs": [],
   "source": [
    "with open('travel_plans.txt') as filo:\n",
    "    reads = filo.read()\n",
    "    first_chars = reads[:33]\n"
   ]
  },
  {
   "cell_type": "markdown",
   "metadata": {},
   "source": [
    "8 - Challenge: Using the file school_prompt.txt, if the character ‘p’ is in a word, then add the word to a list called p_words."
   ]
  },
  {
   "cell_type": "code",
   "execution_count": null,
   "metadata": {},
   "outputs": [],
   "source": [
    "p_words=[]\n",
    "with open('school_prompt.txt') as filo:\n",
    "    reads = filo.read()\n",
    "    lst1=reads.split('\\n')\n",
    "    lst1.pop(-1)\n",
    "    for items in lst1:\n",
    "        lst2=items.split(\" \")\n",
    "        for vals in lst2:\n",
    "            if 'p' in vals:\n",
    "                p_words.append(vals)"
   ]
  }
 ],
 "metadata": {
  "kernelspec": {
   "display_name": "Python 3",
   "language": "python",
   "name": "python3"
  },
  "language_info": {
   "codemirror_mode": {
    "name": "ipython",
    "version": 3
   },
   "file_extension": ".py",
   "mimetype": "text/x-python",
   "name": "python",
   "nbconvert_exporter": "python",
   "pygments_lexer": "ipython3",
   "version": "3.7.1"
  }
 },
 "nbformat": 4,
 "nbformat_minor": 2
}
