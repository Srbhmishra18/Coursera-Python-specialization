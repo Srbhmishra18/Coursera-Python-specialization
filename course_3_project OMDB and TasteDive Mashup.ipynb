{
 "cells": [
  {
   "cell_type": "markdown",
   "metadata": {},
   "source": [
    "# course_3_project OMDB and TasteDive Mashup"
   ]
  },
  {
   "cell_type": "markdown",
   "metadata": {},
   "source": [
    "This project will take you through the process of mashing up data from two different APIs to make movie recommendations. The TasteDive API lets you provide a movie (or bands, TV shows, etc.) as a query input, and returns a set of related items. The OMDB API lets you provide a movie title as a query input and get back data about the movie, including scores from various review sites (Rotten Tomatoes, IMDB, etc.).\n",
    "\n",
    "You will put those two together. You will use TasteDive to get related movies for a whole list of titles. You’ll combine the resulting lists of related movies, and sort them according to their Rotten Tomatoes scores (which will require making API calls to the OMDB API.)\n",
    "\n",
    "To avoid problems with rate limits and site accessibility, we have provided a cache file with results for all the queries you need to make to both OMDB and TasteDive. Just use requests_with_caching.get() rather than requests.get(). If you’re having trouble, you may not be formatting your queries properly, or you may not be asking for data that exists in our cache. We will try to provide as much information as we can to help guide you to form queries for which data exists in the cache.\n",
    "\n",
    "Your first task will be to fetch data from TasteDive. The documentation for the API is at https://tastedive.com/read/api.\n",
    "\n",
    "Define a function, called get_movies_from_tastedive. It should take one input parameter, a string that is the name of a movie or music artist. The function should return the 5 TasteDive results that are associated with that string; be sure to only get movies, not other kinds of media. It will be a python dictionary with just one key, ‘Similar’.\n",
    "\n",
    "Try invoking your function with the input “Black Panther”.\n",
    "\n",
    "HINT: Be sure to include only q, type, and limit as parameters in order to extract data from the cache. If any other parameters are included, then the function will not be able to recognize the data that you’re attempting to pull from the cache. Remember, you will not need an api key in order to complete the project, because all data will be found in the cache."
   ]
  },
  {
   "cell_type": "markdown",
   "metadata": {},
   "source": [
    "Define a function get_sorted_recommendations. It takes a list of movie titles as an input. It returns a sorted list of related movie titles as output, up to five related movies for each input movie title. The movies should be sorted in descending order by their Rotten Tomatoes rating, as returned by the get_movie_rating function. Break ties in reverse alphabetic order, so that ‘Yahşi Batı’ comes before ‘Eyyvah Eyvah’."
   ]
  },
  {
   "cell_type": "code",
   "execution_count": null,
   "metadata": {},
   "outputs": [],
   "source": [
    "import requests_with_caching as rq\n",
    "def get_movies_from_tastedive(strng):\n",
    "    params= {'q':strng,'type':'movies','limit':5}\n",
    "    data = rq.get('https://tastedive.com/api/similar',params)\n",
    "    response = data.json()\n",
    "    return response\n",
    "def extract_movie_titles(dic):\n",
    "    movies=[]\n",
    "    for items in dic['Similar']['Results']:\n",
    "        movies.append(items['Name'])\n",
    "    return movies\n",
    "def get_related_titles(list_of_mov):\n",
    "    lst =[]\n",
    "    for movies in list_of_mov:\n",
    "        movies_list=extract_movie_titles(get_movies_from_tastedive(movies))\n",
    "        for item in movies_list:\n",
    "            if item not in lst:\n",
    "                lst.append(item)\n",
    "    return lst\n",
    "def get_movie_data(strng):\n",
    "    url = 'http://www.omdbapi.com/'\n",
    "    param = {'t':strng,'r':'json'}\n",
    "    response = rq.get(url,param)\n",
    "    final_response = response.json()\n",
    "    return final_response\n",
    "\n",
    "def get_movie_rating(dic):\n",
    "    rating=0\n",
    "    for items in dic['Ratings']:\n",
    "        if items['Source']=='Rotten Tomatoes':\n",
    "            rating = int(items['Value'].strip('%'))\n",
    "    return rating\n",
    "\n",
    "def get_sorted_recommendations(list_of_movies):\n",
    "    dicto={}\n",
    "    listo = get_related_titles(list_of_movies)\n",
    "    for movies in listo:\n",
    "        rating = get_movie_rating(get_movie_data(movies))\n",
    "        dicto[movies]=rating\n",
    "    return [movies[0] for movies in sorted(dicto.items(),key = lambda item: (item[1],item[0]),reverse=True)]\n",
    "# some invocations that we use in the automated tests; uncomment these if you are getting errors and want better error messages\n",
    "# get_sorted_recommendations([\"Bridesmaids\", \"Sherlock Holmes\"])\n",
    "\n"
   ]
  }
 ],
 "metadata": {
  "kernelspec": {
   "display_name": "Python 3",
   "language": "python",
   "name": "python3"
  },
  "language_info": {
   "codemirror_mode": {
    "name": "ipython",
    "version": 3
   },
   "file_extension": ".py",
   "mimetype": "text/x-python",
   "name": "python",
   "nbconvert_exporter": "python",
   "pygments_lexer": "ipython3",
   "version": "3.7.1"
  }
 },
 "nbformat": 4,
 "nbformat_minor": 2
}
