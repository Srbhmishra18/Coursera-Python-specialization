{
 "cells": [
  {
   "cell_type": "markdown",
   "metadata": {},
   "source": [
    "# course_2_project Sentiment Classifier"
   ]
  },
  {
   "cell_type": "markdown",
   "metadata": {},
   "source": [
    " Your task is to build a sentiment classifier, which will detect how positive or negative each tweet is. Copy the code from the code windows above, and put that in the top of this code window. Now, you will write code to create a csv file called resulting_data.csv, which contains the Number of Retweets, Number of Replies, Positive Score (which is how many happy words are in the tweet), Negative Score (which is how many angry words are in the tweet), and the Net Score (how positive or negative the text is overall) for each tweet. The file should have those headers in that order."
   ]
  },
  {
   "cell_type": "code",
   "execution_count": null,
   "metadata": {},
   "outputs": [],
   "source": [
    "punctuation_chars = [\"'\", '\"', \",\", \".\", \"!\", \":\", \";\", '#', '@']\n",
    "# lists of words to use\n",
    "positive_words = []\n",
    "with open(\"positive_words.txt\") as pos_f:\n",
    "    for lin in pos_f:\n",
    "        if lin[0] != ';' and lin[0] != '\\n':\n",
    "            positive_words.append(lin.strip())\n",
    "\n",
    "negative_words = []\n",
    "with open(\"negative_words.txt\") as pos_f:\n",
    "    for lin in pos_f:\n",
    "        if lin[0] != ';' and lin[0] != '\\n':\n",
    "            negative_words.append(lin.strip())\n",
    "\n",
    "def strip_punctuation(strng):\n",
    "    for item in punctuation_chars:\n",
    "        if item in strng:\n",
    "            strng = strng.replace(item,\" \")\n",
    "    return strng\n",
    "def get_neg(strng):\n",
    "    strng=strng.lower()\n",
    "    strng = strip_punctuation(strng)\n",
    "    counter = 0\n",
    "    lst = strng.split(\" \")\n",
    "    for item in lst:\n",
    "        if item in negative_words:\n",
    "            counter+=1\n",
    "    return counter\n",
    "def get_pos(strng):\n",
    "    strng=strng.lower()\n",
    "    strng = strip_punctuation(strng)\n",
    "    counter = 0\n",
    "    lst = strng.split(\" \")\n",
    "    for item in lst:\n",
    "        if item in positive_words:\n",
    "            counter+=1\n",
    "    return counter\n",
    "fields = ['Number of Retweets', ' Number of Replies', ' Positive Score', ' Negative Score',' Net Score']\n",
    "tweet=\"\"\n",
    "retweets=0\n",
    "replies=0\n",
    "pos_score=0\n",
    "neg_score=0\n",
    "net_score=0\n",
    "with open('project_twitter_data.csv') as filo:\n",
    "    reado = filo.read()\n",
    "    lst = reado.split(\"\\n\")\n",
    "listo=[]\n",
    "listo.append(fields)\n",
    "for items in lst[1:(len(lst)-1)]:\n",
    "    lst2 = items.split(\",\")\n",
    "    tweet=strip_punctuation(lst2[0])\n",
    "    retweets= lst2[1]\n",
    "    replies = lst2[2]\n",
    "    pos_score=(get_pos(tweet))\n",
    "    neg_score=(get_neg(tweet))\n",
    "    net_score=str(pos_score-neg_score)\n",
    "    listo.append([retweets,replies,str(pos_score),str(neg_score),net_score])\n",
    "flo = open('resulting_data.csv', 'w')\n",
    "for items in listo:\n",
    "    val = \",\".join(items)\n",
    "    flo.write(val)\n",
    "    flo.write(\"\\n\")\n",
    "flo.close()\n",
    "    "
   ]
  }
 ],
 "metadata": {
  "kernelspec": {
   "display_name": "Python 3",
   "language": "python",
   "name": "python3"
  },
  "language_info": {
   "codemirror_mode": {
    "name": "ipython",
    "version": 3
   },
   "file_extension": ".py",
   "mimetype": "text/x-python",
   "name": "python",
   "nbconvert_exporter": "python",
   "pygments_lexer": "ipython3",
   "version": "3.7.1"
  }
 },
 "nbformat": 4,
 "nbformat_minor": 2
}
